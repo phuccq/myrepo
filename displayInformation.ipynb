{
 "cells": [
  {
   "cell_type": "code",
   "execution_count": 2,
   "id": "99604a31",
   "metadata": {},
   "outputs": [
    {
     "name": "stdout",
     "output_type": "stream",
     "text": [
      "Họ và tên: Chu Quang Phúc\n",
      "Ngày sinh: 30/9/1989\n",
      "Địa chỉ: Hà Nội\n",
      "Mục đích: học DA\n"
     ]
    }
   ],
   "source": [
    "print(\"Họ và tên: Chu Quang Phúc\\nNgày sinh: 30/9/1989\\nĐịa chỉ: Hà Nội\\nMục đích: học DA\")"
   ]
  },
  {
   "cell_type": "code",
   "execution_count": null,
   "id": "f975b949",
   "metadata": {},
   "outputs": [],
   "source": []
  }
 ],
 "metadata": {
  "kernelspec": {
   "display_name": "Python 3",
   "language": "python",
   "name": "python3"
  },
  "language_info": {
   "codemirror_mode": {
    "name": "ipython",
    "version": 3
   },
   "file_extension": ".py",
   "mimetype": "text/x-python",
   "name": "python",
   "nbconvert_exporter": "python",
   "pygments_lexer": "ipython3",
   "version": "3.8.8"
  }
 },
 "nbformat": 4,
 "nbformat_minor": 5
}
